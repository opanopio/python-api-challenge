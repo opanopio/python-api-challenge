{
 "cells": [
  {
   "cell_type": "markdown",
   "metadata": {},
   "source": [
    "# WeatherPy\n",
    "\n",
    "---\n",
    "\n",
    "## Starter Code to Generate Random Geographic Coordinates and a List of Cities"
   ]
  },
  {
   "cell_type": "code",
   "execution_count": 1,
   "metadata": {
    "scrolled": true
   },
   "outputs": [],
   "source": [
    "# Dependencies and Setup\n",
    "import matplotlib.pyplot as plt\n",
    "import pandas as pd\n",
    "import numpy as np\n",
    "import requests\n",
    "import time\n",
    "from scipy.stats import linregress\n",
    "from scipy import stats\n",
    "\n",
    "# Import the OpenWeatherMap API key\n",
    "from api_keys import weather_api_key\n",
    "\n",
    "# Import citipy to determine the cities based on latitude and longitude\n",
    "from citipy import citipy"
   ]
  },
  {
   "cell_type": "markdown",
   "metadata": {},
   "source": [
    "### Generate the Cities List by Using the `citipy` Library"
   ]
  },
  {
   "cell_type": "code",
   "execution_count": 2,
   "metadata": {},
   "outputs": [
    {
     "name": "stdout",
     "output_type": "stream",
     "text": [
      "Number of cities in the list: 625\n"
     ]
    }
   ],
   "source": [
    "# Empty list for holding the latitude and longitude combinations\n",
    "lat_lngs = []\n",
    "\n",
    "# Empty list for holding the cities names\n",
    "cities = []\n",
    "\n",
    "# Range of latitudes and longitudes\n",
    "lat_range = (-90, 90)\n",
    "lng_range = (-180, 180)\n",
    "\n",
    "# Create a set of random lat and lng combinations\n",
    "lats = np.random.uniform(lat_range[0], lat_range[1], size=1500)\n",
    "lngs = np.random.uniform(lng_range[0], lng_range[1], size=1500)\n",
    "lat_lngs = zip(lats, lngs)\n",
    "\n",
    "# Identify nearest city for each lat, lng combination\n",
    "for lat_lng in lat_lngs:\n",
    "    city = citipy.nearest_city(lat_lng[0], lat_lng[1]).city_name\n",
    "    \n",
    "    # If the city is unique, then add it to a our cities list\n",
    "    if city not in cities:\n",
    "        cities.append(city)\n",
    "\n",
    "# Print the city count to confirm sufficient count\n",
    "print(f\"Number of cities in the list: {len(cities)}\")"
   ]
  },
  {
   "cell_type": "markdown",
   "metadata": {},
   "source": [
    "---"
   ]
  },
  {
   "cell_type": "markdown",
   "metadata": {},
   "source": [
    "## Requirement 1: Create Plots to Showcase the Relationship Between Weather Variables and Latitude\n",
    "\n",
    "### Use the OpenWeatherMap API to retrieve weather data from the cities list generated in the started code"
   ]
  },
  {
   "cell_type": "code",
   "execution_count": 3,
   "metadata": {},
   "outputs": [
    {
     "name": "stdout",
     "output_type": "stream",
     "text": [
      "Beginning Data Retrieval     \n",
      "-----------------------------\n",
      "Processing Record 1 of Set 1 | punta arenas\n",
      "Processing Record 2 of Set 1 | champerico\n",
      "Processing Record 3 of Set 1 | carnarvon\n",
      "Processing Record 4 of Set 1 | santiago del estero\n",
      "Processing Record 5 of Set 1 | kodiak\n",
      "Processing Record 6 of Set 1 | kesinga\n",
      "Processing Record 7 of Set 1 | samalaeulu\n",
      "City not found. Skipping...\n",
      "Processing Record 8 of Set 1 | yellowknife\n",
      "Processing Record 9 of Set 1 | kaitangata\n",
      "Processing Record 10 of Set 1 | thompson\n",
      "Processing Record 11 of Set 1 | qaanaaq\n",
      "Processing Record 12 of Set 1 | ixtapa\n",
      "Processing Record 13 of Set 1 | coquimbo\n",
      "Processing Record 14 of Set 1 | geraldton\n",
      "Processing Record 15 of Set 1 | hithadhoo\n",
      "Processing Record 16 of Set 1 | chuy\n",
      "Processing Record 17 of Set 1 | hasaki\n",
      "Processing Record 18 of Set 1 | new norfolk\n",
      "Processing Record 19 of Set 1 | longyearbyen\n",
      "Processing Record 20 of Set 1 | buluang\n",
      "Processing Record 21 of Set 1 | husavik\n",
      "Processing Record 22 of Set 1 | antalaha\n",
      "Processing Record 23 of Set 1 | jamestown\n",
      "Processing Record 24 of Set 1 | east london\n",
      "Processing Record 25 of Set 1 | tiksi\n",
      "Processing Record 26 of Set 1 | tuktoyaktuk\n",
      "Processing Record 27 of Set 1 | kapaa\n",
      "Processing Record 28 of Set 1 | muros\n",
      "Processing Record 29 of Set 1 | winnemucca\n",
      "Processing Record 30 of Set 1 | yulara\n",
      "Processing Record 31 of Set 1 | saint-francois\n",
      "Processing Record 32 of Set 1 | atuona\n",
      "Processing Record 33 of Set 1 | puerto colombia\n",
      "Processing Record 34 of Set 1 | bangsund\n",
      "Processing Record 35 of Set 1 | rikitea\n",
      "Processing Record 36 of Set 1 | ulagan\n",
      "Processing Record 37 of Set 1 | taolanaro\n",
      "City not found. Skipping...\n",
      "Processing Record 38 of Set 1 | syava\n",
      "Processing Record 39 of Set 1 | smithers\n",
      "Processing Record 40 of Set 1 | awjilah\n",
      "Processing Record 41 of Set 1 | dinar\n",
      "Processing Record 42 of Set 1 | puerto ayora\n",
      "Processing Record 43 of Set 1 | troitsk\n",
      "Processing Record 44 of Set 1 | cape town\n",
      "Processing Record 45 of Set 1 | ahipara\n",
      "Processing Record 46 of Set 1 | krasnyy chikoy\n",
      "Processing Record 47 of Set 1 | paita\n",
      "Processing Record 48 of Set 1 | bambous virieux\n",
      "Processing Record 49 of Set 1 | howard springs\n",
      "Processing Record 50 of Set 1 | narsaq\n",
      "Processing Record 0 of Set 2 | saint-philippe\n",
      "Processing Record 1 of Set 2 | constitucion\n",
      "Processing Record 2 of Set 2 | zhitikara\n",
      "City not found. Skipping...\n",
      "Processing Record 3 of Set 2 | venezuela\n",
      "Processing Record 4 of Set 2 | noumea\n",
      "Processing Record 5 of Set 2 | vaini\n",
      "Processing Record 6 of Set 2 | jiaojiang\n",
      "Processing Record 7 of Set 2 | busselton\n",
      "Processing Record 8 of Set 2 | barrow\n",
      "Processing Record 9 of Set 2 | emba\n",
      "Processing Record 10 of Set 2 | engerwitzdorf\n",
      "Processing Record 11 of Set 2 | colares\n",
      "Processing Record 12 of Set 2 | nome\n",
      "Processing Record 13 of Set 2 | marienburg\n",
      "Processing Record 14 of Set 2 | albany\n",
      "Processing Record 15 of Set 2 | hamilton\n",
      "Processing Record 16 of Set 2 | vao\n",
      "Processing Record 17 of Set 2 | inongo\n",
      "Processing Record 18 of Set 2 | hilo\n",
      "Processing Record 19 of Set 2 | burnie\n",
      "Processing Record 20 of Set 2 | flinders\n",
      "Processing Record 21 of Set 2 | turochak\n",
      "Processing Record 22 of Set 2 | nikolskoye\n",
      "Processing Record 23 of Set 2 | norwich\n",
      "Processing Record 24 of Set 2 | saint anthony\n",
      "Processing Record 25 of Set 2 | panzhihua\n",
      "Processing Record 26 of Set 2 | ushuaia\n",
      "Processing Record 27 of Set 2 | mar del plata\n",
      "Processing Record 28 of Set 2 | los llanos de aridane\n",
      "Processing Record 29 of Set 2 | vardo\n",
      "Processing Record 30 of Set 2 | tuatapere\n",
      "Processing Record 31 of Set 2 | hobart\n",
      "Processing Record 32 of Set 2 | mahon\n",
      "Processing Record 33 of Set 2 | pisco\n",
      "Processing Record 34 of Set 2 | ayan\n",
      "Processing Record 35 of Set 2 | ponta do sol\n",
      "Processing Record 36 of Set 2 | bluff\n",
      "Processing Record 37 of Set 2 | tanete\n",
      "Processing Record 38 of Set 2 | talnakh\n",
      "Processing Record 39 of Set 2 | bantry\n",
      "Processing Record 40 of Set 2 | grand gaube\n",
      "Processing Record 41 of Set 2 | wulanhaote\n",
      "City not found. Skipping...\n",
      "Processing Record 42 of Set 2 | saldanha\n",
      "Processing Record 43 of Set 2 | novobirilyussy\n",
      "Processing Record 44 of Set 2 | mataura\n",
      "Processing Record 45 of Set 2 | cervantes\n",
      "Processing Record 46 of Set 2 | mookane\n",
      "Processing Record 47 of Set 2 | norman wells\n",
      "Processing Record 48 of Set 2 | cidreira\n",
      "Processing Record 49 of Set 2 | avarua\n",
      "Processing Record 0 of Set 3 | lucapa\n",
      "Processing Record 1 of Set 3 | great bend\n",
      "Processing Record 2 of Set 3 | grand river south east\n",
      "City not found. Skipping...\n",
      "Processing Record 3 of Set 3 | bida\n",
      "Processing Record 4 of Set 3 | alekseyevka\n",
      "Processing Record 5 of Set 3 | mahebourg\n",
      "Processing Record 6 of Set 3 | malanje\n",
      "Processing Record 7 of Set 3 | castro\n",
      "Processing Record 8 of Set 3 | tasiilaq\n",
      "Processing Record 9 of Set 3 | saskylakh\n",
      "Processing Record 10 of Set 3 | severo-kurilsk\n",
      "Processing Record 11 of Set 3 | airai\n",
      "Processing Record 12 of Set 3 | touros\n",
      "Processing Record 13 of Set 3 | cabedelo\n",
      "Processing Record 14 of Set 3 | qinhuangdao\n",
      "Processing Record 15 of Set 3 | havoysund\n",
      "Processing Record 16 of Set 3 | vagur\n",
      "Processing Record 17 of Set 3 | bathsheba\n",
      "Processing Record 18 of Set 3 | bose\n",
      "Processing Record 19 of Set 3 | provideniya\n",
      "Processing Record 20 of Set 3 | tambopata\n",
      "Processing Record 21 of Set 3 | bredasdorp\n",
      "Processing Record 22 of Set 3 | murchison\n",
      "Processing Record 23 of Set 3 | barentsburg\n",
      "City not found. Skipping...\n",
      "Processing Record 24 of Set 3 | saint george\n",
      "Processing Record 25 of Set 3 | port alfred\n",
      "Processing Record 26 of Set 3 | katsuura\n",
      "Processing Record 27 of Set 3 | elektrenai\n",
      "Processing Record 28 of Set 3 | kieta\n",
      "Processing Record 29 of Set 3 | mankono\n",
      "Processing Record 30 of Set 3 | hermanus\n",
      "Processing Record 31 of Set 3 | upernavik\n",
      "Processing Record 32 of Set 3 | qui nhon\n",
      "Processing Record 33 of Set 3 | bethel\n",
      "Processing Record 34 of Set 3 | khatanga\n",
      "Processing Record 35 of Set 3 | roald\n",
      "Processing Record 36 of Set 3 | izumo\n",
      "Processing Record 37 of Set 3 | torbay\n",
      "Processing Record 38 of Set 3 | tsihombe\n",
      "City not found. Skipping...\n",
      "Processing Record 39 of Set 3 | salalah\n",
      "Processing Record 40 of Set 3 | belushya guba\n",
      "City not found. Skipping...\n",
      "Processing Record 41 of Set 3 | sao felix do xingu\n",
      "Processing Record 42 of Set 3 | muyezerskiy\n",
      "Processing Record 43 of Set 3 | illoqqortoormiut\n",
      "City not found. Skipping...\n",
      "Processing Record 44 of Set 3 | tupik\n",
      "Processing Record 45 of Set 3 | naze\n",
      "Processing Record 46 of Set 3 | play cu\n",
      "City not found. Skipping...\n",
      "Processing Record 47 of Set 3 | zyryanka\n",
      "Processing Record 48 of Set 3 | taoudenni\n",
      "Processing Record 49 of Set 3 | jishou\n",
      "Processing Record 0 of Set 4 | altay\n",
      "Processing Record 1 of Set 4 | bowen\n",
      "Processing Record 2 of Set 4 | hami\n",
      "Processing Record 3 of Set 4 | faanui\n",
      "Processing Record 4 of Set 4 | vaitupu\n",
      "City not found. Skipping...\n",
      "Processing Record 5 of Set 4 | kupang\n",
      "Processing Record 6 of Set 4 | bubaque\n",
      "Processing Record 7 of Set 4 | ribeira grande\n",
      "Processing Record 8 of Set 4 | valdivia\n",
      "Processing Record 9 of Set 4 | igrim\n",
      "Processing Record 10 of Set 4 | ostrovnoy\n",
      "Processing Record 11 of Set 4 | barcelos\n",
      "Processing Record 12 of Set 4 | maarianhamina\n",
      "Processing Record 13 of Set 4 | sabla\n",
      "Processing Record 14 of Set 4 | aklavik\n",
      "Processing Record 15 of Set 4 | berlevag\n",
      "Processing Record 16 of Set 4 | port elizabeth\n",
      "Processing Record 17 of Set 4 | shimanovsk\n",
      "Processing Record 18 of Set 4 | mys shmidta\n",
      "City not found. Skipping...\n",
      "Processing Record 19 of Set 4 | juneau\n",
      "Processing Record 20 of Set 4 | portland\n",
      "Processing Record 21 of Set 4 | chapais\n",
      "Processing Record 22 of Set 4 | krasnyye barrikady\n",
      "Processing Record 23 of Set 4 | sola\n",
      "Processing Record 24 of Set 4 | eyl\n",
      "Processing Record 25 of Set 4 | hoshiarpur\n",
      "Processing Record 26 of Set 4 | codrington\n",
      "Processing Record 27 of Set 4 | suez\n",
      "Processing Record 28 of Set 4 | qaqortoq\n",
      "Processing Record 29 of Set 4 | duluth\n",
      "Processing Record 30 of Set 4 | lagunas\n",
      "Processing Record 31 of Set 4 | rungata\n",
      "City not found. Skipping...\n",
      "Processing Record 32 of Set 4 | senador canedo\n",
      "Processing Record 33 of Set 4 | kuryk\n",
      "Processing Record 34 of Set 4 | eirunepe\n",
      "Processing Record 35 of Set 4 | kavieng\n",
      "Processing Record 36 of Set 4 | alpena\n",
      "Processing Record 37 of Set 4 | nizhneyansk\n",
      "City not found. Skipping...\n",
      "Processing Record 38 of Set 4 | aykhal\n",
      "Processing Record 39 of Set 4 | isangel\n",
      "Processing Record 40 of Set 4 | meyungs\n",
      "City not found. Skipping...\n",
      "Processing Record 41 of Set 4 | garissa\n",
      "Processing Record 42 of Set 4 | acajutla\n",
      "Processing Record 43 of Set 4 | cervo\n",
      "Processing Record 44 of Set 4 | viligili\n",
      "City not found. Skipping...\n",
      "Processing Record 45 of Set 4 | cap malheureux\n",
      "Processing Record 46 of Set 4 | bengkulu\n",
      "Processing Record 47 of Set 4 | naftah\n",
      "City not found. Skipping...\n",
      "Processing Record 48 of Set 4 | gigmoto\n",
      "Processing Record 49 of Set 4 | butaritari\n",
      "Processing Record 0 of Set 5 | sibu\n",
      "Processing Record 1 of Set 5 | akyab\n",
      "Processing Record 2 of Set 5 | amderma\n",
      "City not found. Skipping...\n",
      "Processing Record 3 of Set 5 | stoyba\n",
      "City not found. Skipping...\n",
      "Processing Record 4 of Set 5 | axim\n",
      "Processing Record 5 of Set 5 | sorland\n",
      "Processing Record 6 of Set 5 | barra do garcas\n",
      "Processing Record 7 of Set 5 | bitung\n",
      "Processing Record 8 of Set 5 | la tuque\n",
      "Processing Record 9 of Set 5 | lebu\n",
      "Processing Record 10 of Set 5 | bajil\n",
      "Processing Record 11 of Set 5 | izhma\n",
      "Processing Record 12 of Set 5 | kavaratti\n",
      "Processing Record 13 of Set 5 | cherskiy\n",
      "Processing Record 14 of Set 5 | bombay\n",
      "Processing Record 15 of Set 5 | shingu\n",
      "Processing Record 16 of Set 5 | chokurdakh\n",
      "Processing Record 17 of Set 5 | escanaba\n",
      "Processing Record 18 of Set 5 | fairbanks\n",
      "Processing Record 19 of Set 5 | esperance\n",
      "Processing Record 20 of Set 5 | carutapera\n",
      "Processing Record 21 of Set 5 | waitati\n",
      "Processing Record 22 of Set 5 | otane\n",
      "Processing Record 23 of Set 5 | kirando\n",
      "Processing Record 24 of Set 5 | hvide sande\n",
      "Processing Record 25 of Set 5 | huarmey\n",
      "Processing Record 26 of Set 5 | souillac\n",
      "Processing Record 27 of Set 5 | port blair\n",
      "Processing Record 28 of Set 5 | amahai\n",
      "Processing Record 29 of Set 5 | uden\n",
      "Processing Record 30 of Set 5 | hovd\n",
      "Processing Record 31 of Set 5 | taltal\n",
      "Processing Record 32 of Set 5 | shenkursk\n",
      "Processing Record 33 of Set 5 | padang\n",
      "Processing Record 34 of Set 5 | celestun\n",
      "Processing Record 35 of Set 5 | beloha\n",
      "Processing Record 36 of Set 5 | veinticinco de mayo\n",
      "Processing Record 37 of Set 5 | qasigiannguit\n",
      "Processing Record 38 of Set 5 | armacao dos buzios\n",
      "City not found. Skipping...\n",
      "Processing Record 39 of Set 5 | san patricio\n",
      "Processing Record 40 of Set 5 | ancud\n",
      "Processing Record 41 of Set 5 | kuching\n",
      "Processing Record 42 of Set 5 | jalapa\n",
      "Processing Record 43 of Set 5 | matadi\n",
      "Processing Record 44 of Set 5 | saleaula\n",
      "City not found. Skipping...\n",
      "Processing Record 45 of Set 5 | umm kaddadah\n",
      "Processing Record 46 of Set 5 | clarence town\n",
      "Processing Record 47 of Set 5 | hualmay\n",
      "Processing Record 48 of Set 5 | mamallapuram\n",
      "Processing Record 49 of Set 5 | dikson\n",
      "Processing Record 0 of Set 6 | anloga\n",
      "Processing Record 1 of Set 6 | dingle\n",
      "Processing Record 2 of Set 6 | walvis bay\n",
      "Processing Record 3 of Set 6 | tabas\n",
      "Processing Record 4 of Set 6 | labuhan\n",
      "Processing Record 5 of Set 6 | fort nelson\n",
      "Processing Record 6 of Set 6 | namibe\n",
      "Processing Record 7 of Set 6 | gunnedah\n",
      "Processing Record 8 of Set 6 | olafsvik\n",
      "Processing Record 9 of Set 6 | high level\n",
      "Processing Record 10 of Set 6 | awbari\n",
      "Processing Record 11 of Set 6 | nouadhibou\n",
      "Processing Record 12 of Set 6 | bogatoye\n",
      "Processing Record 13 of Set 6 | bardstown\n",
      "Processing Record 14 of Set 6 | nishihara\n",
      "Processing Record 15 of Set 6 | ngozi\n",
      "Processing Record 16 of Set 6 | sataua\n",
      "City not found. Skipping...\n",
      "Processing Record 17 of Set 6 | fort saint john\n",
      "City not found. Skipping...\n",
      "Processing Record 18 of Set 6 | lorengau\n",
      "Processing Record 19 of Set 6 | nisia floresta\n",
      "Processing Record 20 of Set 6 | henties bay\n",
      "Processing Record 21 of Set 6 | namatanai\n",
      "Processing Record 22 of Set 6 | manta\n",
      "Processing Record 23 of Set 6 | saint-georges\n",
      "Processing Record 24 of Set 6 | kelso\n",
      "Processing Record 25 of Set 6 | corinto\n",
      "Processing Record 26 of Set 6 | olga\n",
      "Processing Record 27 of Set 6 | jacqueville\n",
      "Processing Record 28 of Set 6 | denpasar\n",
      "Processing Record 29 of Set 6 | attawapiskat\n",
      "City not found. Skipping...\n",
      "Processing Record 30 of Set 6 | omboue\n",
      "Processing Record 31 of Set 6 | general roca\n",
      "Processing Record 32 of Set 6 | verkhoyansk\n",
      "Processing Record 33 of Set 6 | buala\n",
      "Processing Record 34 of Set 6 | palabuhanratu\n",
      "City not found. Skipping...\n",
      "Processing Record 35 of Set 6 | coari\n",
      "Processing Record 36 of Set 6 | vanimo\n",
      "Processing Record 37 of Set 6 | hirara\n",
      "Processing Record 38 of Set 6 | biltine\n",
      "Processing Record 39 of Set 6 | sechura\n",
      "Processing Record 40 of Set 6 | hambantota\n",
      "Processing Record 41 of Set 6 | guerrero negro\n",
      "Processing Record 42 of Set 6 | tiptur\n",
      "Processing Record 43 of Set 6 | balikpapan\n",
      "Processing Record 44 of Set 6 | parbatipur\n",
      "Processing Record 45 of Set 6 | kirakira\n",
      "Processing Record 46 of Set 6 | jiazi\n",
      "Processing Record 47 of Set 6 | lujan\n",
      "Processing Record 48 of Set 6 | conde\n",
      "Processing Record 49 of Set 6 | katobu\n",
      "Processing Record 0 of Set 7 | lompoc\n",
      "Processing Record 1 of Set 7 | bonavista\n",
      "Processing Record 2 of Set 7 | prainha\n",
      "Processing Record 3 of Set 7 | wilmington\n",
      "Processing Record 4 of Set 7 | yurimaguas\n",
      "Processing Record 5 of Set 7 | waipawa\n",
      "Processing Record 6 of Set 7 | birnin kebbi\n",
      "Processing Record 7 of Set 7 | gorontalo\n",
      "Processing Record 8 of Set 7 | uruzgan\n",
      "Processing Record 9 of Set 7 | sitka\n",
      "Processing Record 10 of Set 7 | baghdad\n",
      "Processing Record 11 of Set 7 | wenling\n",
      "Processing Record 12 of Set 7 | jabinyanah\n",
      "Processing Record 13 of Set 7 | tilichiki\n",
      "Processing Record 14 of Set 7 | lagoa\n",
      "Processing Record 15 of Set 7 | margate\n",
      "Processing Record 16 of Set 7 | pangnirtung\n",
      "Processing Record 17 of Set 7 | asau\n",
      "Processing Record 18 of Set 7 | jalu\n",
      "Processing Record 19 of Set 7 | narasannapeta\n",
      "Processing Record 20 of Set 7 | xining\n",
      "Processing Record 21 of Set 7 | kisangani\n",
      "Processing Record 22 of Set 7 | broome\n",
      "Processing Record 23 of Set 7 | santiago\n",
      "Processing Record 24 of Set 7 | saint-augustin\n",
      "Processing Record 25 of Set 7 | camacha\n",
      "Processing Record 26 of Set 7 | acarau\n",
      "Processing Record 27 of Set 7 | kiunga\n",
      "Processing Record 28 of Set 7 | sheregesh\n",
      "Processing Record 29 of Set 7 | aksu\n",
      "Processing Record 30 of Set 7 | harqalah\n",
      "Processing Record 31 of Set 7 | batemans bay\n",
      "Processing Record 32 of Set 7 | kondinskoye\n",
      "Processing Record 33 of Set 7 | ca mau\n",
      "Processing Record 34 of Set 7 | finschhafen\n",
      "Processing Record 35 of Set 7 | annau\n",
      "Processing Record 36 of Set 7 | kapit\n",
      "Processing Record 37 of Set 7 | troitskoye\n",
      "Processing Record 38 of Set 7 | marawi\n",
      "Processing Record 39 of Set 7 | cuenca\n",
      "Processing Record 40 of Set 7 | thio\n",
      "Processing Record 41 of Set 7 | alofi\n",
      "Processing Record 42 of Set 7 | baiyin\n",
      "Processing Record 43 of Set 7 | luorong\n",
      "Processing Record 44 of Set 7 | khandbari\n",
      "Processing Record 45 of Set 7 | olinda\n",
      "Processing Record 46 of Set 7 | kleck\n",
      "City not found. Skipping...\n",
      "Processing Record 47 of Set 7 | tabiauea\n",
      "City not found. Skipping...\n",
      "Processing Record 48 of Set 7 | coahuayana\n",
      "Processing Record 49 of Set 7 | turukhansk\n",
      "Processing Record 0 of Set 8 | ulefoss\n",
      "Processing Record 1 of Set 8 | opuwo\n",
      "Processing Record 2 of Set 8 | santander\n",
      "Processing Record 3 of Set 8 | faya\n",
      "Processing Record 4 of Set 8 | kaeo\n",
      "Processing Record 5 of Set 8 | kirovsk\n",
      "Processing Record 6 of Set 8 | nioro\n",
      "Processing Record 7 of Set 8 | nanortalik\n",
      "Processing Record 8 of Set 8 | vestmanna\n",
      "Processing Record 9 of Set 8 | arraial do cabo\n",
      "Processing Record 10 of Set 8 | kauhajoki\n",
      "Processing Record 11 of Set 8 | puerto escondido\n",
      "Processing Record 12 of Set 8 | makakilo city\n",
      "Processing Record 13 of Set 8 | clyde river\n",
      "Processing Record 14 of Set 8 | mercedes\n",
      "Processing Record 15 of Set 8 | parry sound\n",
      "Processing Record 16 of Set 8 | alvdal\n",
      "Processing Record 17 of Set 8 | samusu\n",
      "City not found. Skipping...\n",
      "Processing Record 18 of Set 8 | aranos\n",
      "Processing Record 19 of Set 8 | sinnamary\n",
      "Processing Record 20 of Set 8 | sobolevo\n",
      "Processing Record 21 of Set 8 | marathon\n",
      "Processing Record 22 of Set 8 | port lincoln\n",
      "Processing Record 23 of Set 8 | umm lajj\n",
      "Processing Record 24 of Set 8 | guaranesia\n",
      "Processing Record 25 of Set 8 | saint-pierre\n",
      "Processing Record 26 of Set 8 | verkhniy mamon\n",
      "Processing Record 27 of Set 8 | aurangabad\n",
      "Processing Record 28 of Set 8 | coxim\n",
      "Processing Record 29 of Set 8 | le port\n",
      "Processing Record 30 of Set 8 | leningradskiy\n",
      "Processing Record 31 of Set 8 | pilar\n",
      "Processing Record 32 of Set 8 | raudeberg\n",
      "Processing Record 33 of Set 8 | sentyabrskiy\n",
      "City not found. Skipping...\n",
      "Processing Record 34 of Set 8 | college\n",
      "Processing Record 35 of Set 8 | stawell\n",
      "Processing Record 36 of Set 8 | resistencia\n",
      "Processing Record 37 of Set 8 | divnomorskoye\n",
      "Processing Record 38 of Set 8 | chapleau\n",
      "Processing Record 39 of Set 8 | silver city\n",
      "Processing Record 40 of Set 8 | sur\n",
      "Processing Record 41 of Set 8 | suntar\n",
      "Processing Record 42 of Set 8 | wewak\n",
      "Processing Record 43 of Set 8 | byron bay\n",
      "Processing Record 44 of Set 8 | ozuluama\n",
      "Processing Record 45 of Set 8 | comodoro rivadavia\n",
      "Processing Record 46 of Set 8 | grand-santi\n",
      "Processing Record 47 of Set 8 | suzun\n",
      "Processing Record 48 of Set 8 | uyskoye\n",
      "Processing Record 49 of Set 8 | marcona\n",
      "City not found. Skipping...\n",
      "Processing Record 0 of Set 9 | cabo san lucas\n",
      "Processing Record 1 of Set 9 | klaksvik\n",
      "Processing Record 2 of Set 9 | caravelas\n",
      "Processing Record 3 of Set 9 | telde\n",
      "Processing Record 4 of Set 9 | goderich\n",
      "Processing Record 5 of Set 9 | kerki\n",
      "City not found. Skipping...\n",
      "Processing Record 6 of Set 9 | ahar\n",
      "Processing Record 7 of Set 9 | shimoda\n",
      "Processing Record 8 of Set 9 | yomou\n",
      "Processing Record 9 of Set 9 | spas-klepiki\n",
      "Processing Record 10 of Set 9 | baft\n",
      "Processing Record 11 of Set 9 | manokwari\n",
      "Processing Record 12 of Set 9 | kagadi\n",
      "Processing Record 13 of Set 9 | huangmei\n",
      "Processing Record 14 of Set 9 | marzuq\n",
      "Processing Record 15 of Set 9 | nouakchott\n",
      "Processing Record 16 of Set 9 | kerrville\n",
      "Processing Record 17 of Set 9 | rio gallegos\n",
      "Processing Record 18 of Set 9 | esso\n",
      "Processing Record 19 of Set 9 | fortuna\n",
      "Processing Record 20 of Set 9 | surab\n",
      "Processing Record 21 of Set 9 | matamoros\n",
      "Processing Record 22 of Set 9 | seaford\n",
      "Processing Record 23 of Set 9 | vredendal\n",
      "Processing Record 24 of Set 9 | yar-sale\n",
      "Processing Record 25 of Set 9 | terney\n",
      "Processing Record 26 of Set 9 | olavarria\n",
      "Processing Record 27 of Set 9 | kuche\n",
      "City not found. Skipping...\n",
      "Processing Record 28 of Set 9 | camacupa\n",
      "Processing Record 29 of Set 9 | imeni telmana\n",
      "City not found. Skipping...\n",
      "Processing Record 30 of Set 9 | meulaboh\n",
      "Processing Record 31 of Set 9 | taunggyi\n",
      "Processing Record 32 of Set 9 | paamiut\n",
      "Processing Record 33 of Set 9 | vaitape\n",
      "Processing Record 34 of Set 9 | karakol\n",
      "Processing Record 35 of Set 9 | southampton\n",
      "Processing Record 36 of Set 9 | georgetown\n",
      "Processing Record 37 of Set 9 | maneadero\n",
      "Processing Record 38 of Set 9 | grindavik\n",
      "Processing Record 39 of Set 9 | cayenne\n",
      "Processing Record 40 of Set 9 | ust-barguzin\n",
      "Processing Record 41 of Set 9 | nago\n",
      "Processing Record 42 of Set 9 | port hardy\n",
      "Processing Record 43 of Set 9 | debre zeyit\n",
      "Processing Record 44 of Set 9 | umzimvubu\n",
      "City not found. Skipping...\n",
      "Processing Record 45 of Set 9 | alice springs\n",
      "Processing Record 46 of Set 9 | honningsvag\n",
      "Processing Record 47 of Set 9 | clifton\n",
      "Processing Record 48 of Set 9 | bethal\n",
      "Processing Record 49 of Set 9 | kiama\n",
      "Processing Record 0 of Set 10 | luderitz\n",
      "Processing Record 1 of Set 10 | maraba\n",
      "Processing Record 2 of Set 10 | weston\n",
      "Processing Record 3 of Set 10 | boras\n",
      "Processing Record 4 of Set 10 | requena\n",
      "Processing Record 5 of Set 10 | bennettsville\n",
      "Processing Record 6 of Set 10 | mathathane\n",
      "Processing Record 7 of Set 10 | mount gambier\n",
      "Processing Record 8 of Set 10 | jardim\n",
      "Processing Record 9 of Set 10 | victoria\n",
      "Processing Record 10 of Set 10 | dobryatino\n",
      "Processing Record 11 of Set 10 | cochrane\n",
      "Processing Record 12 of Set 10 | palmer\n",
      "Processing Record 13 of Set 10 | somerset west\n",
      "Processing Record 14 of Set 10 | cockburn town\n",
      "Processing Record 15 of Set 10 | san cristobal\n",
      "Processing Record 16 of Set 10 | affery\n",
      "Processing Record 17 of Set 10 | harper\n",
      "Processing Record 18 of Set 10 | phan rang\n",
      "City not found. Skipping...\n",
      "Processing Record 19 of Set 10 | karasjok\n",
      "Processing Record 20 of Set 10 | tautira\n",
      "Processing Record 21 of Set 10 | kenai\n",
      "Processing Record 22 of Set 10 | sigli\n",
      "Processing Record 23 of Set 10 | oranjestad\n",
      "Processing Record 24 of Set 10 | rio rancho\n",
      "Processing Record 25 of Set 10 | fria\n",
      "Processing Record 26 of Set 10 | koslan\n",
      "Processing Record 27 of Set 10 | barentu\n",
      "Processing Record 28 of Set 10 | ilulissat\n",
      "Processing Record 29 of Set 10 | buraydah\n",
      "Processing Record 30 of Set 10 | tres arroyos\n",
      "Processing Record 31 of Set 10 | kruisfontein\n",
      "Processing Record 32 of Set 10 | bitkine\n",
      "Processing Record 33 of Set 10 | oranjemund\n",
      "Processing Record 34 of Set 10 | ajdabiya\n",
      "Processing Record 35 of Set 10 | vestmannaeyjar\n",
      "Processing Record 36 of Set 10 | vigrestad\n",
      "Processing Record 37 of Set 10 | yialos\n",
      "City not found. Skipping...\n",
      "Processing Record 38 of Set 10 | lesnoy\n",
      "Processing Record 39 of Set 10 | staraya kulatka\n",
      "Processing Record 40 of Set 10 | pishin\n",
      "Processing Record 41 of Set 10 | mitchell\n",
      "Processing Record 42 of Set 10 | port augusta\n",
      "Processing Record 43 of Set 10 | panjakent\n",
      "Processing Record 44 of Set 10 | macia\n",
      "Processing Record 45 of Set 10 | malwan\n",
      "City not found. Skipping...\n",
      "Processing Record 46 of Set 10 | wynyard\n",
      "Processing Record 47 of Set 10 | lavrentiya\n",
      "Processing Record 48 of Set 10 | glyadyanskoye\n",
      "Processing Record 49 of Set 10 | abnub\n",
      "Processing Record 0 of Set 11 | straumen\n",
      "Processing Record 1 of Set 11 | korla\n",
      "Processing Record 2 of Set 11 | lasa\n",
      "Processing Record 3 of Set 11 | hofn\n",
      "Processing Record 4 of Set 11 | tuapse\n",
      "Processing Record 5 of Set 11 | bulungu\n",
      "Processing Record 6 of Set 11 | komsomolskiy\n",
      "Processing Record 7 of Set 11 | shiloh\n",
      "Processing Record 8 of Set 11 | pasni\n",
      "Processing Record 9 of Set 11 | mangrul pir\n",
      "Processing Record 10 of Set 11 | mehamn\n",
      "Processing Record 11 of Set 11 | bauchi\n",
      "Processing Record 12 of Set 11 | roberval\n",
      "Processing Record 13 of Set 11 | oktyabrskoye\n",
      "Processing Record 14 of Set 11 | barreirinha\n",
      "Processing Record 15 of Set 11 | slave lake\n",
      "Processing Record 16 of Set 11 | kargasok\n",
      "Processing Record 17 of Set 11 | saint-joseph\n",
      "Processing Record 18 of Set 11 | itaituba\n",
      "Processing Record 19 of Set 11 | betafo\n",
      "Processing Record 20 of Set 11 | igarka\n",
      "Processing Record 21 of Set 11 | show low\n",
      "Processing Record 22 of Set 11 | panambi\n",
      "Processing Record 23 of Set 11 | ossora\n",
      "Processing Record 24 of Set 11 | alta floresta\n",
      "Processing Record 25 of Set 11 | zhuhai\n",
      "Processing Record 26 of Set 11 | singapore\n",
      "Processing Record 27 of Set 11 | coihaique\n",
      "Processing Record 28 of Set 11 | ghanzi\n",
      "Processing Record 29 of Set 11 | burgeo\n",
      "Processing Record 30 of Set 11 | turayf\n",
      "Processing Record 31 of Set 11 | storm lake\n",
      "Processing Record 32 of Set 11 | ayr\n",
      "Processing Record 33 of Set 11 | lewistown\n",
      "Processing Record 34 of Set 11 | narrabri\n",
      "Processing Record 35 of Set 11 | port shepstone\n",
      "Processing Record 36 of Set 11 | dehloran\n",
      "Processing Record 37 of Set 11 | tumannyy\n",
      "City not found. Skipping...\n",
      "Processing Record 38 of Set 11 | sawtell\n",
      "Processing Record 39 of Set 11 | lanigan\n",
      "Processing Record 40 of Set 11 | chumikan\n",
      "Processing Record 41 of Set 11 | astana\n",
      "Processing Record 42 of Set 11 | sorong\n",
      "Processing Record 43 of Set 11 | ariquemes\n",
      "Processing Record 44 of Set 11 | ous\n",
      "Processing Record 45 of Set 11 | skjervoy\n",
      "Processing Record 46 of Set 11 | mundra\n",
      "Processing Record 47 of Set 11 | cheremukhovo\n",
      "Processing Record 48 of Set 11 | ravar\n",
      "Processing Record 49 of Set 11 | santa maria\n",
      "Processing Record 0 of Set 12 | dzhusaly\n",
      "City not found. Skipping...\n",
      "Processing Record 1 of Set 12 | boffa\n",
      "Processing Record 2 of Set 12 | sao filipe\n",
      "Processing Record 3 of Set 12 | micheweni\n",
      "Processing Record 4 of Set 12 | binga\n",
      "Processing Record 5 of Set 12 | solwezi\n",
      "Processing Record 6 of Set 12 | pevek\n",
      "Processing Record 7 of Set 12 | la ronge\n",
      "Processing Record 8 of Set 12 | udachnyy\n",
      "Processing Record 9 of Set 12 | kanchanaburi\n",
      "Processing Record 10 of Set 12 | barbar\n",
      "City not found. Skipping...\n",
      "Processing Record 11 of Set 12 | tyup\n",
      "Processing Record 12 of Set 12 | havelock\n",
      "Processing Record 13 of Set 12 | filadelfia\n",
      "Processing Record 14 of Set 12 | tshane\n",
      "Processing Record 15 of Set 12 | beringovskiy\n",
      "Processing Record 16 of Set 12 | paka\n",
      "Processing Record 17 of Set 12 | luwuk\n",
      "Processing Record 18 of Set 12 | kahului\n",
      "Processing Record 19 of Set 12 | soddy-daisy\n",
      "Processing Record 20 of Set 12 | neuquen\n",
      "Processing Record 21 of Set 12 | lusambo\n",
      "Processing Record 22 of Set 12 | laguna\n",
      "Processing Record 23 of Set 12 | toliary\n",
      "City not found. Skipping...\n",
      "Processing Record 24 of Set 12 | chimoio\n",
      "Processing Record 25 of Set 12 | iskateley\n",
      "Processing Record 26 of Set 12 | jawhar\n",
      "Processing Record 27 of Set 12 | ayagoz\n",
      "Processing Record 28 of Set 12 | tungkang\n",
      "City not found. Skipping...\n",
      "Processing Record 29 of Set 12 | sal rei\n",
      "Processing Record 30 of Set 12 | maniitsoq\n",
      "Processing Record 31 of Set 12 | angoche\n",
      "Processing Record 32 of Set 12 | roros\n",
      "Processing Record 33 of Set 12 | talaya\n",
      "Processing Record 34 of Set 12 | grand centre\n",
      "City not found. Skipping...\n",
      "Processing Record 35 of Set 12 | eagle pass\n",
      "Processing Record 36 of Set 12 | necochea\n",
      "Processing Record 37 of Set 12 | lagos\n",
      "Processing Record 38 of Set 12 | kutum\n",
      "Processing Record 39 of Set 12 | mackenzie\n",
      "Processing Record 40 of Set 12 | lumeje\n",
      "Processing Record 41 of Set 12 | sai buri\n",
      "Processing Record 42 of Set 12 | tacuarembo\n",
      "Processing Record 43 of Set 12 | galle\n",
      "Processing Record 44 of Set 12 | montecristo\n",
      "Processing Record 45 of Set 12 | baruun-urt\n",
      "Processing Record 46 of Set 12 | san jose iturbide\n",
      "Processing Record 47 of Set 12 | iqaluit\n",
      "Processing Record 48 of Set 12 | haines junction\n",
      "Processing Record 49 of Set 12 | hobyo\n",
      "Processing Record 0 of Set 13 | skagastrond\n",
      "City not found. Skipping...\n",
      "Processing Record 1 of Set 13 | cilegon\n",
      "Processing Record 2 of Set 13 | sun city west\n",
      "Processing Record 3 of Set 13 | krasnoselkup\n",
      "Processing Record 4 of Set 13 | sisimiut\n",
      "Processing Record 5 of Set 13 | morondava\n",
      "Processing Record 6 of Set 13 | kilindoni\n",
      "Processing Record 7 of Set 13 | zhanakorgan\n",
      "Processing Record 8 of Set 13 | giyani\n",
      "Processing Record 9 of Set 13 | kiri buru\n",
      "Processing Record 10 of Set 13 | rocha\n",
      "Processing Record 11 of Set 13 | sao joao da barra\n",
      "Processing Record 12 of Set 13 | taylor\n",
      "Processing Record 13 of Set 13 | zhigansk\n",
      "Processing Record 14 of Set 13 | vila franca do campo\n",
      "Processing Record 15 of Set 13 | shieli\n",
      "Processing Record 16 of Set 13 | willowmore\n",
      "Processing Record 17 of Set 13 | dakar\n",
      "Processing Record 18 of Set 13 | vila\n",
      "Processing Record 19 of Set 13 | pareora\n",
      "Processing Record 20 of Set 13 | ust-ishim\n",
      "Processing Record 21 of Set 13 | ngukurr\n",
      "City not found. Skipping...\n",
      "Processing Record 22 of Set 13 | lolua\n",
      "City not found. Skipping...\n",
      "Processing Record 23 of Set 13 | solnechnyy\n",
      "Processing Record 24 of Set 13 | kyren\n",
      "-----------------------------\n",
      "Data Retrieval Complete      \n",
      "-----------------------------\n"
     ]
    }
   ],
   "source": [
    "# Set the API base URL\n",
    "url = \"http://api.openweathermap.org/data/2.5/weather?units=Imperial&APPID=\" + weather_api_key\n",
    "\n",
    "# Define an empty list to fetch the weather data for each city\n",
    "city_data = []\n",
    "\n",
    "# Print to logger\n",
    "print(\"Beginning Data Retrieval     \")\n",
    "print(\"-----------------------------\")\n",
    "\n",
    "# Create counters\n",
    "record_count = 1\n",
    "set_count = 1\n",
    "\n",
    "# Loop through all the cities in our list to fetch weather data\n",
    "for i, city in enumerate(cities):\n",
    "        \n",
    "    # Group cities in sets of 50 for logging purposes\n",
    "    if (i % 50 == 0 and i >= 50):\n",
    "        set_count += 1\n",
    "        record_count = 0\n",
    "\n",
    "    # Create endpoint URL with each city\n",
    "    city_url = url + \"&q=\" + city\n",
    "    \n",
    "    # Log the url, record, and set numbers\n",
    "    print(\"Processing Record %s of Set %s | %s\" % (record_count, set_count, city))\n",
    "\n",
    "    # Add 1 to the record count\n",
    "    record_count += 1\n",
    "\n",
    "    # Run an API request for each of the cities\n",
    "    try: \n",
    "        # Parse the JSON and retrieve data\n",
    "        city_weather = requests.get(city_url).json()\n",
    "\n",
    "        # Parse out latitude, longitude, max temp, humidity, cloudiness, wind speed, country, and date\n",
    "        city_lat = city_weather[\"coord\"][\"lat\"]\n",
    "        city_lng = city_weather[\"coord\"][\"lon\"]\n",
    "        city_max_temp = city_weather[\"main\"][\"temp_max\"]\n",
    "        city_humidity = city_weather[\"main\"][\"humidity\"]\n",
    "        city_clouds = city_weather[\"clouds\"][\"all\"]\n",
    "        city_wind = city_weather[\"wind\"][\"speed\"]\n",
    "        city_country = city_weather[\"sys\"][\"country\"]\n",
    "        city_date = city_weather[\"dt\"]\n",
    "\n",
    "        # Append the City information into city_data list\n",
    "        city_data.append({\"City\": city, \n",
    "                          \"Lat\": city_lat, \n",
    "                          \"Lng\": city_lng, \n",
    "                          \"Max Temp\": city_max_temp,\n",
    "                          \"Humidity\": city_humidity,\n",
    "                          \"Cloudiness\": city_clouds,\n",
    "                          \"Wind Speed\": city_wind,\n",
    "                          \"Country\": city_country,\n",
    "                          \"Date\": city_date})\n",
    "\n",
    "    # If an error is experienced, skip the city\n",
    "    except:\n",
    "        print(\"City not found. Skipping...\")\n",
    "        pass\n",
    "              \n",
    "# Indicate that Data Loading is complete \n",
    "print(\"-----------------------------\")\n",
    "print(\"Data Retrieval Complete      \")\n",
    "print(\"-----------------------------\")"
   ]
  },
  {
   "cell_type": "code",
   "execution_count": 4,
   "metadata": {},
   "outputs": [
    {
     "data": {
      "text/plain": [
       "City          579\n",
       "Lat           579\n",
       "Lng           579\n",
       "Max Temp      579\n",
       "Humidity      579\n",
       "Cloudiness    579\n",
       "Wind Speed    579\n",
       "Country       579\n",
       "Date          579\n",
       "dtype: int64"
      ]
     },
     "execution_count": 4,
     "metadata": {},
     "output_type": "execute_result"
    }
   ],
   "source": [
    "# Convert the cities weather data into a Pandas DataFrame\n",
    "city_data_df = pd.DataFrame(city_data)\n",
    "\n",
    "# Show Record Count\n",
    "city_data_df.count()"
   ]
  },
  {
   "cell_type": "code",
   "execution_count": 5,
   "metadata": {},
   "outputs": [
    {
     "data": {
      "text/html": [
       "<div>\n",
       "<style scoped>\n",
       "    .dataframe tbody tr th:only-of-type {\n",
       "        vertical-align: middle;\n",
       "    }\n",
       "\n",
       "    .dataframe tbody tr th {\n",
       "        vertical-align: top;\n",
       "    }\n",
       "\n",
       "    .dataframe thead th {\n",
       "        text-align: right;\n",
       "    }\n",
       "</style>\n",
       "<table border=\"1\" class=\"dataframe\">\n",
       "  <thead>\n",
       "    <tr style=\"text-align: right;\">\n",
       "      <th></th>\n",
       "      <th>City</th>\n",
       "      <th>Lat</th>\n",
       "      <th>Lng</th>\n",
       "      <th>Max Temp</th>\n",
       "      <th>Humidity</th>\n",
       "      <th>Cloudiness</th>\n",
       "      <th>Wind Speed</th>\n",
       "      <th>Country</th>\n",
       "      <th>Date</th>\n",
       "    </tr>\n",
       "  </thead>\n",
       "  <tbody>\n",
       "    <tr>\n",
       "      <th>0</th>\n",
       "      <td>punta arenas</td>\n",
       "      <td>-53.1500</td>\n",
       "      <td>-70.9167</td>\n",
       "      <td>62.62</td>\n",
       "      <td>54</td>\n",
       "      <td>0</td>\n",
       "      <td>23.02</td>\n",
       "      <td>CL</td>\n",
       "      <td>1668533358</td>\n",
       "    </tr>\n",
       "    <tr>\n",
       "      <th>1</th>\n",
       "      <td>champerico</td>\n",
       "      <td>14.3000</td>\n",
       "      <td>-91.9167</td>\n",
       "      <td>91.94</td>\n",
       "      <td>72</td>\n",
       "      <td>11</td>\n",
       "      <td>4.03</td>\n",
       "      <td>GT</td>\n",
       "      <td>1668533399</td>\n",
       "    </tr>\n",
       "    <tr>\n",
       "      <th>2</th>\n",
       "      <td>carnarvon</td>\n",
       "      <td>-24.8667</td>\n",
       "      <td>113.6333</td>\n",
       "      <td>71.89</td>\n",
       "      <td>67</td>\n",
       "      <td>0</td>\n",
       "      <td>14.34</td>\n",
       "      <td>AU</td>\n",
       "      <td>1668533400</td>\n",
       "    </tr>\n",
       "    <tr>\n",
       "      <th>3</th>\n",
       "      <td>santiago del estero</td>\n",
       "      <td>-27.7951</td>\n",
       "      <td>-64.2615</td>\n",
       "      <td>93.31</td>\n",
       "      <td>21</td>\n",
       "      <td>30</td>\n",
       "      <td>14.56</td>\n",
       "      <td>AR</td>\n",
       "      <td>1668533400</td>\n",
       "    </tr>\n",
       "    <tr>\n",
       "      <th>4</th>\n",
       "      <td>kodiak</td>\n",
       "      <td>57.7900</td>\n",
       "      <td>-152.4072</td>\n",
       "      <td>40.51</td>\n",
       "      <td>75</td>\n",
       "      <td>40</td>\n",
       "      <td>5.75</td>\n",
       "      <td>US</td>\n",
       "      <td>1668533249</td>\n",
       "    </tr>\n",
       "  </tbody>\n",
       "</table>\n",
       "</div>"
      ],
      "text/plain": [
       "                  City      Lat       Lng  Max Temp  Humidity  Cloudiness  \\\n",
       "0         punta arenas -53.1500  -70.9167     62.62        54           0   \n",
       "1           champerico  14.3000  -91.9167     91.94        72          11   \n",
       "2            carnarvon -24.8667  113.6333     71.89        67           0   \n",
       "3  santiago del estero -27.7951  -64.2615     93.31        21          30   \n",
       "4               kodiak  57.7900 -152.4072     40.51        75          40   \n",
       "\n",
       "   Wind Speed Country        Date  \n",
       "0       23.02      CL  1668533358  \n",
       "1        4.03      GT  1668533399  \n",
       "2       14.34      AU  1668533400  \n",
       "3       14.56      AR  1668533400  \n",
       "4        5.75      US  1668533249  "
      ]
     },
     "execution_count": 5,
     "metadata": {},
     "output_type": "execute_result"
    }
   ],
   "source": [
    "# Display sample data\n",
    "city_data_df.head()"
   ]
  },
  {
   "cell_type": "code",
   "execution_count": 6,
   "metadata": {},
   "outputs": [],
   "source": [
    "# Export the City_Data into a csv\n",
    "city_data_df.to_csv(\"../output_data/cities.csv\", index_label=\"City_ID\")"
   ]
  },
  {
   "cell_type": "code",
   "execution_count": 7,
   "metadata": {},
   "outputs": [
    {
     "data": {
      "text/html": [
       "<div>\n",
       "<style scoped>\n",
       "    .dataframe tbody tr th:only-of-type {\n",
       "        vertical-align: middle;\n",
       "    }\n",
       "\n",
       "    .dataframe tbody tr th {\n",
       "        vertical-align: top;\n",
       "    }\n",
       "\n",
       "    .dataframe thead th {\n",
       "        text-align: right;\n",
       "    }\n",
       "</style>\n",
       "<table border=\"1\" class=\"dataframe\">\n",
       "  <thead>\n",
       "    <tr style=\"text-align: right;\">\n",
       "      <th></th>\n",
       "      <th>City</th>\n",
       "      <th>Lat</th>\n",
       "      <th>Lng</th>\n",
       "      <th>Max Temp</th>\n",
       "      <th>Humidity</th>\n",
       "      <th>Cloudiness</th>\n",
       "      <th>Wind Speed</th>\n",
       "      <th>Country</th>\n",
       "      <th>Date</th>\n",
       "    </tr>\n",
       "    <tr>\n",
       "      <th>City_ID</th>\n",
       "      <th></th>\n",
       "      <th></th>\n",
       "      <th></th>\n",
       "      <th></th>\n",
       "      <th></th>\n",
       "      <th></th>\n",
       "      <th></th>\n",
       "      <th></th>\n",
       "      <th></th>\n",
       "    </tr>\n",
       "  </thead>\n",
       "  <tbody>\n",
       "    <tr>\n",
       "      <th>0</th>\n",
       "      <td>punta arenas</td>\n",
       "      <td>-53.1500</td>\n",
       "      <td>-70.9167</td>\n",
       "      <td>62.62</td>\n",
       "      <td>54</td>\n",
       "      <td>0</td>\n",
       "      <td>23.02</td>\n",
       "      <td>CL</td>\n",
       "      <td>1668533358</td>\n",
       "    </tr>\n",
       "    <tr>\n",
       "      <th>1</th>\n",
       "      <td>champerico</td>\n",
       "      <td>14.3000</td>\n",
       "      <td>-91.9167</td>\n",
       "      <td>91.94</td>\n",
       "      <td>72</td>\n",
       "      <td>11</td>\n",
       "      <td>4.03</td>\n",
       "      <td>GT</td>\n",
       "      <td>1668533399</td>\n",
       "    </tr>\n",
       "    <tr>\n",
       "      <th>2</th>\n",
       "      <td>carnarvon</td>\n",
       "      <td>-24.8667</td>\n",
       "      <td>113.6333</td>\n",
       "      <td>71.89</td>\n",
       "      <td>67</td>\n",
       "      <td>0</td>\n",
       "      <td>14.34</td>\n",
       "      <td>AU</td>\n",
       "      <td>1668533400</td>\n",
       "    </tr>\n",
       "    <tr>\n",
       "      <th>3</th>\n",
       "      <td>santiago del estero</td>\n",
       "      <td>-27.7951</td>\n",
       "      <td>-64.2615</td>\n",
       "      <td>93.31</td>\n",
       "      <td>21</td>\n",
       "      <td>30</td>\n",
       "      <td>14.56</td>\n",
       "      <td>AR</td>\n",
       "      <td>1668533400</td>\n",
       "    </tr>\n",
       "    <tr>\n",
       "      <th>4</th>\n",
       "      <td>kodiak</td>\n",
       "      <td>57.7900</td>\n",
       "      <td>-152.4072</td>\n",
       "      <td>40.51</td>\n",
       "      <td>75</td>\n",
       "      <td>40</td>\n",
       "      <td>5.75</td>\n",
       "      <td>US</td>\n",
       "      <td>1668533249</td>\n",
       "    </tr>\n",
       "  </tbody>\n",
       "</table>\n",
       "</div>"
      ],
      "text/plain": [
       "                        City      Lat       Lng  Max Temp  Humidity  \\\n",
       "City_ID                                                               \n",
       "0               punta arenas -53.1500  -70.9167     62.62        54   \n",
       "1                 champerico  14.3000  -91.9167     91.94        72   \n",
       "2                  carnarvon -24.8667  113.6333     71.89        67   \n",
       "3        santiago del estero -27.7951  -64.2615     93.31        21   \n",
       "4                     kodiak  57.7900 -152.4072     40.51        75   \n",
       "\n",
       "         Cloudiness  Wind Speed Country        Date  \n",
       "City_ID                                              \n",
       "0                 0       23.02      CL  1668533358  \n",
       "1                11        4.03      GT  1668533399  \n",
       "2                 0       14.34      AU  1668533400  \n",
       "3                30       14.56      AR  1668533400  \n",
       "4                40        5.75      US  1668533249  "
      ]
     },
     "execution_count": 7,
     "metadata": {},
     "output_type": "execute_result"
    }
   ],
   "source": [
    "# Read saved data\n",
    "city_data_df = pd.read_csv(\"../output_data/cities.csv\", index_col=\"City_ID\")\n",
    "\n",
    "# Display sample data\n",
    "city_data_df.head()"
   ]
  },
  {
   "cell_type": "markdown",
   "metadata": {},
   "source": [
    "### Create the Scatter Plots Requested\n",
    "\n",
    "#### Latitude Vs. Temperature"
   ]
  },
  {
   "cell_type": "code",
   "execution_count": 8,
   "metadata": {
    "tags": []
   },
   "outputs": [
    {
     "data": {
      "image/png": "[encoded data removed]",
      "text/plain": [
       "<Figure size 432x288 with 1 Axes>"
      ]
     },
     "metadata": {
      "needs_background": "light"
     },
     "output_type": "display_data"
    }
   ],
   "source": [
    "# Build scatter plot for latitude vs. temperature\n",
    "plt.scatter(city_data_df[\"Lat\"], city_data_df[\"Max Temp\"], marker=\"o\")\n",
    "\n",
    "# Incorporate the other graph properties\n",
    "plt.title(\"City Max Latitude Vs. Temperature (2022-10-18\")\n",
    "plt.ylabel(\"Max Temperature (C)\")\n",
    "plt.xlabel(\"Latitude\")\n",
    "plt.grid(True)\n",
    "\n",
    "# Save the figure\n",
    "plt.savefig(\"../output_data/Fig01.png\")\n",
    "\n",
    "# Show plot\n",
    "plt.show()"
   ]
  },
  {
   "cell_type": "markdown",
   "metadata": {},
   "source": [
    "#### Latitude Vs. Humidity"
   ]
  },
  {
   "cell_type": "code",
   "execution_count": 9,
   "metadata": {},
   "outputs": [
    {
     "data": {
      "image/png": "[encoded data removed]",
      "text/plain": [
       "<Figure size 432x288 with 1 Axes>"
      ]
     },
     "metadata": {
      "needs_background": "light"
     },
     "output_type": "display_data"
    }
   ],
   "source": [
    "# Build the scatter plots for latitude vs. humidity\n",
    "plt.scatter(city_data_df[\"Lat\"], city_data_df[\"Humidity\"], marker=\"o\")\n",
    "\n",
    "# Incorporate the other graph properties\n",
    "plt.title(\"City Latitude Vs. Humidity (2022-10-18\")\n",
    "plt.ylabel(\"Humidity (%)\")\n",
    "plt.xlabel(\"Latitude\")\n",
    "plt.grid(True)\n",
    "\n",
    "# Save the figure\n",
    "plt.savefig(\"../output_data/Fig02.png\")\n",
    "\n",
    "# Show plot\n",
    "plt.show()"
   ]
  },
  {
   "cell_type": "markdown",
   "metadata": {},
   "source": [
    "#### Latitude Vs. Cloudiness"
   ]
  },
  {
   "cell_type": "code",
   "execution_count": 10,
   "metadata": {},
   "outputs": [
    {
     "data": {
      "image/png": "[encoded data removed]",
      "text/plain": [
       "<Figure size 432x288 with 1 Axes>"
      ]
     },
     "metadata": {
      "needs_background": "light"
     },
     "output_type": "display_data"
    }
   ],
   "source": [
    "# Build the scatter plots for latitude vs. cloudiness\n",
    "plt.scatter(city_data_df[\"Lat\"], city_data_df[\"Cloudiness\"], marker=\"o\")\n",
    "\n",
    "# Incorporate the other graph properties\n",
    "plt.title(\"City Latitude Vs. Cloudiness (2022-10-18\")\n",
    "plt.ylabel(\"Cloudiness (%)\")\n",
    "plt.xlabel(\"Latitude\")\n",
    "plt.grid(True)\n",
    "\n",
    "# Save the figure\n",
    "plt.savefig(\"../output_data/Fig03.png\")\n",
    "\n",
    "# Show plot\n",
    "plt.show()"
   ]
  },
  {
   "cell_type": "markdown",
   "metadata": {},
   "source": [
    "#### Latitude vs. Wind Speed Plot"
   ]
  },
  {
   "cell_type": "code",
   "execution_count": 11,
   "metadata": {},
   "outputs": [
    {
     "data": {
      "image/png": "[encoded data removed]",
      "text/plain": [
       "<Figure size 432x288 with 1 Axes>"
      ]
     },
     "metadata": {
      "needs_background": "light"
     },
     "output_type": "display_data"
    }
   ],
   "source": [
    "# Build the scatter plots for latitude vs. wind speed\n",
    "plt.scatter(city_data_df[\"Lat\"], city_data_df[\"Wind Speed\"], marker=\"o\")\n",
    "\n",
    "# Incorporate the other graph properties\n",
    "plt.title(\"City Latitude Vs. Wind Speed (2022-10-18\")\n",
    "plt.ylabel(\"Wind Speed (m/s)\")\n",
    "plt.xlabel(\"Latitude\")\n",
    "plt.grid(True)\n",
    "\n",
    "# Save the figure\n",
    "plt.savefig(\"../output_data/Fig04.png\")\n",
    "\n",
    "# Show plot\n",
    "plt.show()"
   ]
  },
  {
   "cell_type": "markdown",
   "metadata": {},
   "source": [
    "---\n",
    "\n",
    "## Requirement 2: Compute Linear Regression for Each Relationship\n"
   ]
  },
  {
   "cell_type": "code",
   "execution_count": 12,
   "metadata": {},
   "outputs": [
    {
     "name": "stdout",
     "output_type": "stream",
     "text": [
      "City_ID\n",
      "0      12.491838\n",
      "1     -14.278332\n",
      "2       4.028009\n",
      "3     -15.529189\n",
      "4      32.679030\n",
      "         ...    \n",
      "574    26.497787\n",
      "575    15.632677\n",
      "576    55.221850\n",
      "577    56.427056\n",
      "578    48.054530\n",
      "Name: Max Temp, Length: 579, dtype: float64\n"
     ]
    }
   ],
   "source": [
    "# Define a function to create Linear Regression plots\n",
    "x_values= city_data_df['Lat']\n",
    "y_maxTemp = city_data_df['Max Temp']\n",
    "\n",
    "(slope, intercept, rvalue, pvalue, stderr) = stats.linregress(x_values, y_maxTemp)\n",
    "\n",
    "regress_values = x_values * slope + intercept\n",
    "print(regress_values)"
   ]
  },
  {
   "cell_type": "code",
   "execution_count": 13,
   "metadata": {},
   "outputs": [
    {
     "name": "stdout",
     "output_type": "stream",
     "text": [
      "y = -0.91x +69.67\n"
     ]
    }
   ],
   "source": [
    "line_eq = \"y = \" + str(round(slope,2)) + \"x +\" + str(round(intercept,2))\n",
    "print(line_eq)"
   ]
  },
  {
   "cell_type": "code",
   "execution_count": 14,
   "metadata": {},
   "outputs": [
    {
     "data": {
      "text/html": [
       "<div>\n",
       "<style scoped>\n",
       "    .dataframe tbody tr th:only-of-type {\n",
       "        vertical-align: middle;\n",
       "    }\n",
       "\n",
       "    .dataframe tbody tr th {\n",
       "        vertical-align: top;\n",
       "    }\n",
       "\n",
       "    .dataframe thead th {\n",
       "        text-align: right;\n",
       "    }\n",
       "</style>\n",
       "<table border=\"1\" class=\"dataframe\">\n",
       "  <thead>\n",
       "    <tr style=\"text-align: right;\">\n",
       "      <th></th>\n",
       "      <th>City</th>\n",
       "      <th>Lat</th>\n",
       "      <th>Lng</th>\n",
       "      <th>Max Temp</th>\n",
       "      <th>Humidity</th>\n",
       "      <th>Cloudiness</th>\n",
       "      <th>Wind Speed</th>\n",
       "      <th>Country</th>\n",
       "      <th>Date</th>\n",
       "    </tr>\n",
       "    <tr>\n",
       "      <th>City_ID</th>\n",
       "      <th></th>\n",
       "      <th></th>\n",
       "      <th></th>\n",
       "      <th></th>\n",
       "      <th></th>\n",
       "      <th></th>\n",
       "      <th></th>\n",
       "      <th></th>\n",
       "      <th></th>\n",
       "    </tr>\n",
       "  </thead>\n",
       "  <tbody>\n",
       "    <tr>\n",
       "      <th>1</th>\n",
       "      <td>champerico</td>\n",
       "      <td>14.3000</td>\n",
       "      <td>-91.9167</td>\n",
       "      <td>91.94</td>\n",
       "      <td>72</td>\n",
       "      <td>11</td>\n",
       "      <td>4.03</td>\n",
       "      <td>GT</td>\n",
       "      <td>1668533399</td>\n",
       "    </tr>\n",
       "    <tr>\n",
       "      <th>4</th>\n",
       "      <td>kodiak</td>\n",
       "      <td>57.7900</td>\n",
       "      <td>-152.4072</td>\n",
       "      <td>40.51</td>\n",
       "      <td>75</td>\n",
       "      <td>40</td>\n",
       "      <td>5.75</td>\n",
       "      <td>US</td>\n",
       "      <td>1668533249</td>\n",
       "    </tr>\n",
       "    <tr>\n",
       "      <th>5</th>\n",
       "      <td>kesinga</td>\n",
       "      <td>20.2000</td>\n",
       "      <td>83.2333</td>\n",
       "      <td>61.79</td>\n",
       "      <td>65</td>\n",
       "      <td>0</td>\n",
       "      <td>2.53</td>\n",
       "      <td>IN</td>\n",
       "      <td>1668533401</td>\n",
       "    </tr>\n",
       "    <tr>\n",
       "      <th>6</th>\n",
       "      <td>yellowknife</td>\n",
       "      <td>62.4560</td>\n",
       "      <td>-114.3525</td>\n",
       "      <td>25.32</td>\n",
       "      <td>86</td>\n",
       "      <td>100</td>\n",
       "      <td>23.02</td>\n",
       "      <td>CA</td>\n",
       "      <td>1668533244</td>\n",
       "    </tr>\n",
       "    <tr>\n",
       "      <th>8</th>\n",
       "      <td>thompson</td>\n",
       "      <td>55.7435</td>\n",
       "      <td>-97.8558</td>\n",
       "      <td>3.36</td>\n",
       "      <td>85</td>\n",
       "      <td>20</td>\n",
       "      <td>2.30</td>\n",
       "      <td>CA</td>\n",
       "      <td>1668533402</td>\n",
       "    </tr>\n",
       "  </tbody>\n",
       "</table>\n",
       "</div>"
      ],
      "text/plain": [
       "                City      Lat       Lng  Max Temp  Humidity  Cloudiness  \\\n",
       "City_ID                                                                   \n",
       "1         champerico  14.3000  -91.9167     91.94        72          11   \n",
       "4             kodiak  57.7900 -152.4072     40.51        75          40   \n",
       "5            kesinga  20.2000   83.2333     61.79        65           0   \n",
       "6        yellowknife  62.4560 -114.3525     25.32        86         100   \n",
       "8           thompson  55.7435  -97.8558      3.36        85          20   \n",
       "\n",
       "         Wind Speed Country        Date  \n",
       "City_ID                                  \n",
       "1              4.03      GT  1668533399  \n",
       "4              5.75      US  1668533249  \n",
       "5              2.53      IN  1668533401  \n",
       "6             23.02      CA  1668533244  \n",
       "8              2.30      CA  1668533402  "
      ]
     },
     "execution_count": 14,
     "metadata": {},
     "output_type": "execute_result"
    }
   ],
   "source": [
    "# Create a DataFrame with the Northern Hemisphere data (Latitude >= 0)\n",
    "northern_hemi_df=city_data_df.loc[(city_data_df[\"Lat\"] >= 0)]\n",
    "x_values_n= northern_hemi_df['Lat']\n",
    "\n",
    "# Display sample data\n",
    "northern_hemi_df.head()"
   ]
  },
  {
   "cell_type": "code",
   "execution_count": 15,
   "metadata": {},
   "outputs": [
    {
     "data": {
      "text/html": [
       "<div>\n",
       "<style scoped>\n",
       "    .dataframe tbody tr th:only-of-type {\n",
       "        vertical-align: middle;\n",
       "    }\n",
       "\n",
       "    .dataframe tbody tr th {\n",
       "        vertical-align: top;\n",
       "    }\n",
       "\n",
       "    .dataframe thead th {\n",
       "        text-align: right;\n",
       "    }\n",
       "</style>\n",
       "<table border=\"1\" class=\"dataframe\">\n",
       "  <thead>\n",
       "    <tr style=\"text-align: right;\">\n",
       "      <th></th>\n",
       "      <th>City</th>\n",
       "      <th>Lat</th>\n",
       "      <th>Lng</th>\n",
       "      <th>Max Temp</th>\n",
       "      <th>Humidity</th>\n",
       "      <th>Cloudiness</th>\n",
       "      <th>Wind Speed</th>\n",
       "      <th>Country</th>\n",
       "      <th>Date</th>\n",
       "    </tr>\n",
       "    <tr>\n",
       "      <th>City_ID</th>\n",
       "      <th></th>\n",
       "      <th></th>\n",
       "      <th></th>\n",
       "      <th></th>\n",
       "      <th></th>\n",
       "      <th></th>\n",
       "      <th></th>\n",
       "      <th></th>\n",
       "      <th></th>\n",
       "    </tr>\n",
       "  </thead>\n",
       "  <tbody>\n",
       "    <tr>\n",
       "      <th>0</th>\n",
       "      <td>punta arenas</td>\n",
       "      <td>-53.1500</td>\n",
       "      <td>-70.9167</td>\n",
       "      <td>62.62</td>\n",
       "      <td>54</td>\n",
       "      <td>0</td>\n",
       "      <td>23.02</td>\n",
       "      <td>CL</td>\n",
       "      <td>1668533358</td>\n",
       "    </tr>\n",
       "    <tr>\n",
       "      <th>2</th>\n",
       "      <td>carnarvon</td>\n",
       "      <td>-24.8667</td>\n",
       "      <td>113.6333</td>\n",
       "      <td>71.89</td>\n",
       "      <td>67</td>\n",
       "      <td>0</td>\n",
       "      <td>14.34</td>\n",
       "      <td>AU</td>\n",
       "      <td>1668533400</td>\n",
       "    </tr>\n",
       "    <tr>\n",
       "      <th>3</th>\n",
       "      <td>santiago del estero</td>\n",
       "      <td>-27.7951</td>\n",
       "      <td>-64.2615</td>\n",
       "      <td>93.31</td>\n",
       "      <td>21</td>\n",
       "      <td>30</td>\n",
       "      <td>14.56</td>\n",
       "      <td>AR</td>\n",
       "      <td>1668533400</td>\n",
       "    </tr>\n",
       "    <tr>\n",
       "      <th>7</th>\n",
       "      <td>kaitangata</td>\n",
       "      <td>-46.2817</td>\n",
       "      <td>169.8464</td>\n",
       "      <td>56.82</td>\n",
       "      <td>77</td>\n",
       "      <td>100</td>\n",
       "      <td>1.70</td>\n",
       "      <td>NZ</td>\n",
       "      <td>1668533402</td>\n",
       "    </tr>\n",
       "    <tr>\n",
       "      <th>11</th>\n",
       "      <td>coquimbo</td>\n",
       "      <td>-29.9533</td>\n",
       "      <td>-71.3436</td>\n",
       "      <td>64.13</td>\n",
       "      <td>72</td>\n",
       "      <td>75</td>\n",
       "      <td>14.97</td>\n",
       "      <td>CL</td>\n",
       "      <td>1668533130</td>\n",
       "    </tr>\n",
       "  </tbody>\n",
       "</table>\n",
       "</div>"
      ],
      "text/plain": [
       "                        City      Lat       Lng  Max Temp  Humidity  \\\n",
       "City_ID                                                               \n",
       "0               punta arenas -53.1500  -70.9167     62.62        54   \n",
       "2                  carnarvon -24.8667  113.6333     71.89        67   \n",
       "3        santiago del estero -27.7951  -64.2615     93.31        21   \n",
       "7                 kaitangata -46.2817  169.8464     56.82        77   \n",
       "11                  coquimbo -29.9533  -71.3436     64.13        72   \n",
       "\n",
       "         Cloudiness  Wind Speed Country        Date  \n",
       "City_ID                                              \n",
       "0                 0       23.02      CL  1668533358  \n",
       "2                 0       14.34      AU  1668533400  \n",
       "3                30       14.56      AR  1668533400  \n",
       "7               100        1.70      NZ  1668533402  \n",
       "11               75       14.97      CL  1668533130  "
      ]
     },
     "execution_count": 15,
     "metadata": {},
     "output_type": "execute_result"
    }
   ],
   "source": [
    "# Create a DataFrame with the Southern Hemisphere data (Latitude < 0)\n",
    "southern_hemi_df=city_data_df.loc[(city_data_df[\"Lat\"] < 0)]\n",
    "x_values_s= southern_hemi_df['Lat']\n",
    "# Display sample data\n",
    "southern_hemi_df.head()"
   ]
  },
  {
   "cell_type": "markdown",
   "metadata": {},
   "source": [
    "###  Temperature vs. Latitude Linear Regression Plot"
   ]
  },
  {
   "cell_type": "code",
   "execution_count": 16,
   "metadata": {},
   "outputs": [
    {
     "name": "stdout",
     "output_type": "stream",
     "text": [
      "City_ID\n",
      "1      75.960199\n",
      "4      26.242614\n",
      "5      69.215344\n",
      "6      20.908463\n",
      "8      28.582165\n",
      "         ...    \n",
      "573    75.510122\n",
      "574    44.258922\n",
      "576    26.352933\n",
      "577    34.323408\n",
      "578    33.224340\n",
      "Name: Lat, Length: 381, dtype: float64\n"
     ]
    }
   ],
   "source": [
    "# Linear regression on Northern Hemisphere\n",
    "y_maxTemp_n = northern_hemi_df['Max Temp']\n",
    "(slope, intercept, rvalue, pvalue, stderr) = stats.linregress(x_values_n, y_maxTemp_n, )\n",
    "\n",
    "regress_values_n = x_values_n * slope + intercept\n",
    "print(regress_values_n)"
   ]
  },
  {
   "cell_type": "code",
   "execution_count": 17,
   "metadata": {},
   "outputs": [
    {
     "name": "stdout",
     "output_type": "stream",
     "text": [
      "y = -1.14x +92.31\n"
     ]
    }
   ],
   "source": [
    "line_eq_01= \"y = \" + str(round(slope,2)) + \"x +\" + str(round(intercept,2))\n",
    "print(line_eq_01)"
   ]
  },
  {
   "cell_type": "code",
   "execution_count": 18,
   "metadata": {},
   "outputs": [
    {
     "name": "stdout",
     "output_type": "stream",
     "text": [
      "The r-value is: 0.7125508365745045\n"
     ]
    },
    {
     "data": {
      "image/png": "[encoded data removed]",
      "text/plain": [
       "<Figure size 432x288 with 1 Axes>"
      ]
     },
     "metadata": {
      "needs_background": "light"
     },
     "output_type": "display_data"
    }
   ],
   "source": [
    "# Build scatter plot for latitude vs. temperature\n",
    "plt.scatter(northern_hemi_df[\"Lat\"], northern_hemi_df[\"Max Temp\"], marker=\"o\")\n",
    "plt.plot(x_values_n,regress_values_n,\"r-\")\n",
    "\n",
    "# Incorporate the other graph properties\n",
    "plt.title(\"Latitude Vs. Temperature (2022-10-18)\")\n",
    "plt.ylabel(\"Max Temperature (C)\")\n",
    "plt.xlabel(\"Latitude\")\n",
    "plt.annotate(line_eq_01,(10,0),fontsize=15,color=\"red\")\n",
    "\n",
    "print(f\"The r-value is: {rvalue**2}\")\n",
    "\n",
    "\n",
    "# Save the figure\n",
    "plt.savefig(\"../output_data/Fig01a.png\")\n",
    "\n",
    "# Show plot\n",
    "plt.show()"
   ]
  },
  {
   "cell_type": "code",
   "execution_count": 19,
   "metadata": {},
   "outputs": [
    {
     "name": "stdout",
     "output_type": "stream",
     "text": [
      "City_ID\n",
      "0      57.755858\n",
      "2      71.023726\n",
      "3      69.649996\n",
      "7      60.977819\n",
      "11     68.637571\n",
      "         ...    \n",
      "564    71.757502\n",
      "566    66.512521\n",
      "567    72.537250\n",
      "572    67.071085\n",
      "575    61.819677\n",
      "Name: Lat, Length: 198, dtype: float64\n"
     ]
    }
   ],
   "source": [
    "# Linear regression on Southern Hemisphere\n",
    "y_maxTemp_s = southern_hemi_df['Max Temp']\n",
    "(slope, intercept, rvalue, pvalue, stderr) = stats.linregress( x_values_s, y_maxTemp_s)\n",
    "\n",
    "regress_values_s = x_values_s * slope + intercept\n",
    "print(regress_values_s)"
   ]
  },
  {
   "cell_type": "code",
   "execution_count": 20,
   "metadata": {},
   "outputs": [
    {
     "name": "stdout",
     "output_type": "stream",
     "text": [
      "y = 0.47x +82.69\n"
     ]
    }
   ],
   "source": [
    "line_eq_02 = \"y = \" + str(round(slope,2)) + \"x +\" + str(round(intercept,2))\n",
    "print(line_eq_02)"
   ]
  },
  {
   "cell_type": "code",
   "execution_count": 21,
   "metadata": {},
   "outputs": [
    {
     "name": "stdout",
     "output_type": "stream",
     "text": [
      "The r-value is: 0.3126625736637993\n"
     ]
    },
    {
     "data": {
      "image/png": "[encoded data removed]",
      "text/plain": [
       "<Figure size 432x288 with 1 Axes>"
      ]
     },
     "metadata": {
      "needs_background": "light"
     },
     "output_type": "display_data"
    }
   ],
   "source": [
    "# Build scatter plot for latitude vs. temperature\n",
    "plt.scatter(southern_hemi_df[\"Lat\"], southern_hemi_df[\"Max Temp\"], marker=\"o\")\n",
    "plt.plot(x_values_s,regress_values_s, \"r-\")\n",
    "plt.annotate(line_eq_02,(-50,90),fontsize=15,color=\"red\")\n",
    "\n",
    "# Incorporate the other graph properties\n",
    "plt.title(\"Latitude Vs. Temperature (2022-10-18\")\n",
    "plt.ylabel(\"Max Temperature (C)\")\n",
    "plt.xlabel(\"Latitude\")\n",
    "\n",
    "\n",
    "print(f\"The r-value is: {rvalue**2}\")\n",
    "\n",
    "\n",
    "# Save the figure\n",
    "plt.savefig(\"../output_data/Fig01b.png\")\n",
    "\n",
    "# Show plot\n",
    "plt.show()"
   ]
  },
  {
   "cell_type": "markdown",
   "metadata": {},
   "source": [
    "**Discussion about the linear relationship:** Temperature Vs. Latitude\n",
    "\n",
    "In the northern hemisphere, there is a negative trending correlation to the change in temperature. A strong majority of the cities are close to the regression line demonstrating a strong correlation.\n",
    "In the southern hemisphere, there is a positive correlation to the change in temperature. Though a decent amount of cities are near the regression line, a majority do not have a strong correlation."
   ]
  },
  {
   "cell_type": "markdown",
   "metadata": {},
   "source": [
    "### Humidity vs. Latitude Linear Regression Plot"
   ]
  },
  {
   "cell_type": "code",
   "execution_count": 22,
   "metadata": {},
   "outputs": [
    {
     "name": "stdout",
     "output_type": "stream",
     "text": [
      "City_ID\n",
      "1      65.016345\n",
      "4      80.501424\n",
      "5      67.117103\n",
      "6      82.162803\n",
      "8      79.772745\n",
      "         ...    \n",
      "573    65.156527\n",
      "574    74.890050\n",
      "576    80.467064\n",
      "577    77.984573\n",
      "578    78.326890\n",
      "Name: Lat, Length: 381, dtype: float64\n"
     ]
    }
   ],
   "source": [
    "# Northern Hemisphere\n",
    "y_humidity_n=northern_hemi_df['Humidity']\n",
    "(slope, intercept, rvalue, pvalue, stderr) = stats.linregress( x_values_n, y_humidity_n,)\n",
    "\n",
    "regress_values_n_h = x_values_n * slope + intercept\n",
    "print(regress_values_n_h)"
   ]
  },
  {
   "cell_type": "code",
   "execution_count": 23,
   "metadata": {},
   "outputs": [
    {
     "name": "stdout",
     "output_type": "stream",
     "text": [
      "y = 0.36x +59.92\n"
     ]
    }
   ],
   "source": [
    "line_eq_03 = \"y = \" + str(round(slope,2)) + \"x +\" + str(round(intercept,2))\n",
    "print(line_eq_03)"
   ]
  },
  {
   "cell_type": "code",
   "execution_count": 24,
   "metadata": {},
   "outputs": [
    {
     "name": "stdout",
     "output_type": "stream",
     "text": [
      "The r-value is: 0.1336944247158035\n"
     ]
    },
    {
     "data": {
      "image/png": "[encoded data removed]",
      "text/plain": [
       "<Figure size 432x288 with 1 Axes>"
      ]
     },
     "metadata": {
      "needs_background": "light"
     },
     "output_type": "display_data"
    }
   ],
   "source": [
    "# Build scatter plot for latitude vs. humidity\n",
    "plt.scatter(northern_hemi_df[\"Lat\"], northern_hemi_df[\"Humidity\"], marker=\"o\")\n",
    "plt.plot(x_values_n,regress_values_n_h,\"r-\")\n",
    "\n",
    "# Incorporate the other graph properties\n",
    "plt.title(\"Latitude Vs. Humidity (2022-10-18)\")\n",
    "plt.ylabel(\"Humidity\")\n",
    "plt.xlabel(\"Latitude\")\n",
    "plt.annotate(line_eq_03,(50,20),fontsize=15,color=\"red\")\n",
    "\n",
    "print(f\"The r-value is: {rvalue**2}\")\n",
    "\n",
    "\n",
    "# Save the figure\n",
    "plt.savefig(\"../output_data/Fig02a.png\")\n",
    "\n",
    "# Show plot\n",
    "plt.show()"
   ]
  },
  {
   "cell_type": "code",
   "execution_count": 25,
   "metadata": {},
   "outputs": [
    {
     "name": "stdout",
     "output_type": "stream",
     "text": [
      "City_ID\n",
      "0      56.581014\n",
      "2      66.098237\n",
      "3      65.112841\n",
      "7      58.892170\n",
      "11     64.386615\n",
      "         ...    \n",
      "564    66.624584\n",
      "566    62.862287\n",
      "567    67.183908\n",
      "572    63.262953\n",
      "575    59.496047\n",
      "Name: Lat, Length: 198, dtype: float64\n"
     ]
    }
   ],
   "source": [
    "# Southern Hemisphere\n",
    "y_humidity_s=southern_hemi_df['Humidity']\n",
    "(slope, intercept, rvalue, pvalue, stderr) = stats.linregress(x_values_s, y_humidity_s)\n",
    "\n",
    "\n",
    "regress_values_s_h = x_values_s * slope + intercept\n",
    "print(regress_values_s_h)"
   ]
  },
  {
   "cell_type": "code",
   "execution_count": 26,
   "metadata": {},
   "outputs": [
    {
     "name": "stdout",
     "output_type": "stream",
     "text": [
      "y = 0.34x +74.47\n"
     ]
    }
   ],
   "source": [
    "line_eq_04 = \"y = \" + str(round(slope,2)) + \"x +\" + str(round(intercept,2))\n",
    "print(line_eq_04)"
   ]
  },
  {
   "cell_type": "code",
   "execution_count": 41,
   "metadata": {},
   "outputs": [
    {
     "name": "stdout",
     "output_type": "stream",
     "text": [
      "The r-value is: 0.07468807365545233\n"
     ]
    },
    {
     "data": {
      "image/png": "[encoded data removed]",
      "text/plain": [
       "<Figure size 432x288 with 1 Axes>"
      ]
     },
     "metadata": {
      "needs_background": "light"
     },
     "output_type": "display_data"
    }
   ],
   "source": [
    "# Build scatter plot for latitude vs. humidity\n",
    "plt.scatter(southern_hemi_df[\"Lat\"], southern_hemi_df[\"Humidity\"], marker=\"o\")\n",
    "plt.plot(x_values_s,regress_values_s_h,\"r-\")\n",
    "\n",
    "# Incorporate the other graph properties\n",
    "plt.title(\"Latitude Vs. Humidity (2022-10-18\")\n",
    "plt.ylabel(\"Humidity\")\n",
    "plt.xlabel(\"Latitude\")\n",
    "plt.annotate(line_eq_04,(-50,45),fontsize=15,color=\"red\")\n",
    "\n",
    "print(f\"The r-value is: {rvalue**2}\")\n",
    "\n",
    "\n",
    "# Save the figure\n",
    "plt.savefig(\"../output_data/Fig02b.png\")\n",
    "\n",
    "# Show plot\n",
    "plt.show()"
   ]
  },
  {
   "cell_type": "markdown",
   "metadata": {},
   "source": [
    "**Discussion about the linear relationship:** Humidity Vs. Latitude\n",
    "\n",
    "In the northern hemisphere, there is a positive correlation to the change in humidity. According to the chart, a strong number of cities are near the regression line and have similar upward trend; so a good correlation.\n",
    "In the southern hemisphere, there is a positive correlation to the change in humidity. In contrast, measurements so that cities seem very spread out on the chart; very few cities fall on or near to the regression line, but all the cities seem to have the same positive trend."
   ]
  },
  {
   "cell_type": "markdown",
   "metadata": {},
   "source": [
    "### Cloudiness vs. Latitude Linear Regression Plot"
   ]
  },
  {
   "cell_type": "code",
   "execution_count": 28,
   "metadata": {},
   "outputs": [
    {
     "name": "stdout",
     "output_type": "stream",
     "text": [
      "City_ID\n",
      "1      45.361603\n",
      "4      69.552390\n",
      "5      48.643407\n",
      "6      72.147797\n",
      "8      68.414050\n",
      "         ...    \n",
      "573    45.580594\n",
      "574    60.786303\n",
      "576    69.498713\n",
      "577    65.620567\n",
      "578    66.155334\n",
      "Name: Lat, Length: 381, dtype: float64\n"
     ]
    }
   ],
   "source": [
    "# Northern Hemisphere\n",
    "y_cloudiness_n=northern_hemi_df['Cloudiness']\n",
    "(slope, intercept, rvalue, pvalue, stderr) = stats.linregress(x_values_n, y_cloudiness_n)\n",
    "\n",
    "regress_values_n_c = x_values_n * slope + intercept\n",
    "print(regress_values_n_c)\n"
   ]
  },
  {
   "cell_type": "code",
   "execution_count": 29,
   "metadata": {},
   "outputs": [
    {
     "name": "stdout",
     "output_type": "stream",
     "text": [
      "y = 0.56x +37.41\n"
     ]
    }
   ],
   "source": [
    "line_eq_05 = \"y = \" + str(round(slope,2)) + \"x +\" + str(round(intercept,2))\n",
    "print(line_eq_05)"
   ]
  },
  {
   "cell_type": "code",
   "execution_count": 43,
   "metadata": {},
   "outputs": [
    {
     "name": "stdout",
     "output_type": "stream",
     "text": [
      "The r-value is: 0.07468807365545233\n"
     ]
    },
    {
     "data": {
      "image/png": "[encoded data removed]",
      "text/plain": [
       "<Figure size 432x288 with 1 Axes>"
      ]
     },
     "metadata": {
      "needs_background": "light"
     },
     "output_type": "display_data"
    }
   ],
   "source": [
    "# Build scatter plot for latitude vs. cloudiness\n",
    "plt.scatter(northern_hemi_df[\"Lat\"], northern_hemi_df[\"Cloudiness\"], marker=\"o\")\n",
    "plt.plot(x_values_n,regress_values_n_c,\"r-\")\n",
    "\n",
    "# Incorporate the other graph properties\n",
    "plt.title(\"Latitude Vs. Cloudiness (2022-10-18)\")\n",
    "plt.ylabel(\"Cloudiness\")\n",
    "plt.xlabel(\"Latitude\")\n",
    "plt.annotate(line_eq_05,(45,50),fontsize=15,color=\"red\")\n",
    "\n",
    "print(f\"The r-value is: {rvalue**2}\")\n",
    "\n",
    "\n",
    "# Save the figure\n",
    "plt.savefig(\"../output_data/Fig03a.png\")\n",
    "\n",
    "# Show plot\n",
    "plt.show()"
   ]
  },
  {
   "cell_type": "code",
   "execution_count": 31,
   "metadata": {},
   "outputs": [
    {
     "name": "stdout",
     "output_type": "stream",
     "text": [
      "City_ID\n",
      "0      25.480558\n",
      "2      51.177778\n",
      "3      48.517136\n",
      "7      31.720856\n",
      "11     46.556271\n",
      "         ...    \n",
      "564    52.598956\n",
      "566    42.440471\n",
      "567    54.109173\n",
      "572    43.522299\n",
      "575    33.351367\n",
      "Name: Lat, Length: 198, dtype: float64\n"
     ]
    }
   ],
   "source": [
    "# Southern Hemisphere\n",
    "y_cloudiness_s=southern_hemi_df['Cloudiness']\n",
    "(slope, intercept, rvalue, pvalue, stderr) = stats.linregress(x_values_s, y_cloudiness_s)\n",
    "\n",
    "regress_values_s_c = x_values_s * slope + intercept\n",
    "print(regress_values_s_c)"
   ]
  },
  {
   "cell_type": "code",
   "execution_count": 32,
   "metadata": {},
   "outputs": [
    {
     "name": "stdout",
     "output_type": "stream",
     "text": [
      "y = 0.91x +73.77\n"
     ]
    }
   ],
   "source": [
    "line_eq_06 = \"y = \" + str(round(slope,2)) + \"x +\" + str(round(intercept,2))\n",
    "print(line_eq_06)"
   ]
  },
  {
   "cell_type": "code",
   "execution_count": 46,
   "metadata": {},
   "outputs": [
    {
     "name": "stdout",
     "output_type": "stream",
     "text": [
      "The r-value is: 0.07468807365545233\n"
     ]
    },
    {
     "data": {
      "image/png": "[encoded data removed]",
      "text/plain": [
       "<Figure size 432x288 with 1 Axes>"
      ]
     },
     "metadata": {
      "needs_background": "light"
     },
     "output_type": "display_data"
    }
   ],
   "source": [
    "# Build scatter plot for latitude vs. cloudiness\n",
    "plt.scatter(southern_hemi_df[\"Lat\"], southern_hemi_df[\"Cloudiness\"], marker=\"o\")\n",
    "plt.plot(x_values_s,regress_values_s_c,\"r-\")\n",
    "\n",
    "# Incorporate the other graph properties\n",
    "plt.title(\"Latitude Vs. Cloudiness (2022-10-18\")\n",
    "plt.ylabel(\"Cloudiness\")\n",
    "plt.xlabel(\"Latitude\")\n",
    "plt.annotate(line_eq_06,(-50,55),fontsize=15,color=\"red\")\n",
    "\n",
    "print(f\"The r-value is: {rvalue**2}\")\n",
    "\n",
    "\n",
    "# Save the figure\n",
    "plt.savefig(\"../output_data/Fig03b.png\")\n",
    "\n",
    "# Show plot\n",
    "plt.show()"
   ]
  },
  {
   "cell_type": "markdown",
   "metadata": {},
   "source": [
    "**Discussion about the linear relationship:** Cloudiness Vs. Latitude\n",
    "\n",
    "In the northern hemisphere, there is a positive correlation to the change in cloudiness.\n",
    "In the southern hemisphere, there is a positive correlation to the change in cloudiness.\n",
    "Cities in both hemispheres do not show very strong correlation to the trending line, demonstrating very little effect of change in latitude to cloudiness. "
   ]
  },
  {
   "cell_type": "markdown",
   "metadata": {},
   "source": [
    "### Wind Speed vs. Latitude Linear Regression Plot"
   ]
  },
  {
   "cell_type": "code",
   "execution_count": 34,
   "metadata": {},
   "outputs": [
    {
     "name": "stdout",
     "output_type": "stream",
     "text": [
      "City_ID\n",
      "1      6.570032\n",
      "4      9.579534\n",
      "5      6.978311\n",
      "6      9.902421\n",
      "8      9.437917\n",
      "         ...   \n",
      "573    6.597276\n",
      "574    8.488972\n",
      "576    9.572857\n",
      "577    9.090388\n",
      "578    9.156917\n",
      "Name: Lat, Length: 381, dtype: float64\n"
     ]
    }
   ],
   "source": [
    "# Northern Hemisphere\n",
    "y_windSpeed_n=northern_hemi_df['Wind Speed']\n",
    "(slope, intercept, rvalue, pvalue, stderr) = stats.linregress(x_values_n, y_windSpeed_n)\n",
    "\n",
    "regress_values_n_w = x_values_n * slope + intercept\n",
    "print(regress_values_n_w)"
   ]
  },
  {
   "cell_type": "code",
   "execution_count": 35,
   "metadata": {},
   "outputs": [
    {
     "name": "stdout",
     "output_type": "stream",
     "text": [
      "y = 0.07x +5.58\n"
     ]
    }
   ],
   "source": [
    "line_eq_07 = \"y = \" + str(round(slope,2)) + \"x +\" + str(round(intercept,2))\n",
    "print(line_eq_07)"
   ]
  },
  {
   "cell_type": "code",
   "execution_count": 47,
   "metadata": {},
   "outputs": [
    {
     "name": "stdout",
     "output_type": "stream",
     "text": [
      "The r-value is: 0.07468807365545233\n"
     ]
    },
    {
     "data": {
      "image/png": "[encoded data removed]",
      "text/plain": [
       "<Figure size 432x288 with 1 Axes>"
      ]
     },
     "metadata": {
      "needs_background": "light"
     },
     "output_type": "display_data"
    }
   ],
   "source": [
    "# Build scatter plot for latitude vs. wind speed\n",
    "plt.scatter(northern_hemi_df[\"Lat\"], northern_hemi_df[\"Wind Speed\"], marker=\"o\")\n",
    "plt.plot(x_values_n,regress_values_n_w,\"r-\")\n",
    "\n",
    "# Incorporate the other graph properties\n",
    "plt.title(\"Latitude Vs. Wind Speed (2022-10-18)\")\n",
    "plt.ylabel(\"Wind Speed\")\n",
    "plt.xlabel(\"Latitude\")\n",
    "plt.annotate(line_eq_07,(5,25),fontsize=15,color=\"red\")\n",
    "\n",
    "print(f\"The r-value is: {rvalue**2}\")\n",
    "\n",
    "\n",
    "# Save the figure\n",
    "plt.savefig(\"../output_data/Fig04a.png\")\n",
    "\n",
    "# Show plot\n",
    "plt.show()"
   ]
  },
  {
   "cell_type": "code",
   "execution_count": 37,
   "metadata": {},
   "outputs": [
    {
     "name": "stdout",
     "output_type": "stream",
     "text": [
      "City_ID\n",
      "0      11.477412\n",
      "2       8.489660\n",
      "3       8.799006\n",
      "7      10.751868\n",
      "11      9.026991\n",
      "         ...    \n",
      "564     8.324423\n",
      "566     9.505525\n",
      "567     8.148834\n",
      "572     9.379743\n",
      "575    10.562293\n",
      "Name: Lat, Length: 198, dtype: float64\n"
     ]
    }
   ],
   "source": [
    "# Southern Hemisphere\n",
    "y_windSpeed_s=southern_hemi_df['Wind Speed']\n",
    "(slope, intercept, rvalue, pvalue, stderr) = stats.linregress(x_values_s, y_windSpeed_s)\n",
    "\n",
    "regress_values_s_w = x_values_s * slope + intercept\n",
    "print(regress_values_s_w)"
   ]
  },
  {
   "cell_type": "code",
   "execution_count": 38,
   "metadata": {},
   "outputs": [
    {
     "name": "stdout",
     "output_type": "stream",
     "text": [
      "y = -0.11x +5.86\n"
     ]
    }
   ],
   "source": [
    "line_eq_08 = \"y = \" + str(round(slope,2)) + \"x +\" + str(round(intercept,2))\n",
    "print(line_eq_08)"
   ]
  },
  {
   "cell_type": "code",
   "execution_count": 52,
   "metadata": {},
   "outputs": [
    {
     "name": "stdout",
     "output_type": "stream",
     "text": [
      "The r-value is: 0.07468807365545233\n"
     ]
    },
    {
     "data": {
      "image/png": "[encoded data removed]",
      "text/plain": [
       "<Figure size 432x288 with 1 Axes>"
      ]
     },
     "metadata": {
      "needs_background": "light"
     },
     "output_type": "display_data"
    }
   ],
   "source": [
    "# Build scatter plot for latitude vs. wind speed\n",
    "plt.scatter(southern_hemi_df[\"Lat\"], southern_hemi_df[\"Wind Speed\"], marker=\"o\")\n",
    "plt.plot(x_values_s,regress_values_s_w,\"r-\")\n",
    "\n",
    "# Incorporate the other graph properties\n",
    "plt.title(\"Latitude Vs. Wind Speed (2022-10-18\")\n",
    "plt.ylabel(\"Wind Speed\")\n",
    "plt.xlabel(\"Latitude\")\n",
    "plt.annotate(line_eq_08,(-25,14),fontsize=15,color=\"red\")\n",
    "\n",
    "print(f\"The r-value is: {rvalue**2}\")\n",
    "\n",
    "\n",
    "# Save the figure\n",
    "plt.savefig(\"../output_data/Fig04b.png\")\n",
    "\n",
    "# Show plot\n",
    "plt.show()"
   ]
  },
  {
   "cell_type": "markdown",
   "metadata": {},
   "source": [
    "**Discussion about the linear relationship:** Wind Speed Vs. Latitude\n",
    "\n",
    "In the northern hemisphere, there is a slight positive correlation to the change in wind speed. Overall, quite a number of cities a very close to that trending line so a strong correlation.\n",
    "In the southern hemisphere, there is a negative correlation to the change in wind speed. In this hemisphere, very few cities fall along the decending trend."
   ]
  }
 ],
 "metadata": {
  "anaconda-cloud": {},
  "kernel_info": {
   "name": "python3"
  },
  "kernelspec": {
   "display_name": "Python 3.9.12 ('base')",
   "language": "python",
   "name": "python3"
  },
  "language_info": {
   "codemirror_mode": {
    "name": "ipython",
    "version": 3
   },
   "file_extension": ".py",
   "mimetype": "text/x-python",
   "name": "python",
   "nbconvert_exporter": "python",
   "pygments_lexer": "ipython3",
   "version": "3.9.12"
  },
  "latex_envs": {
   "LaTeX_envs_menu_present": true,
   "autoclose": false,
   "autocomplete": true,
   "bibliofile": "biblio.bib",
   "cite_by": "apalike",
   "current_citInitial": 1,
   "eqLabelWithNumbers": true,
   "eqNumInitial": 1,
   "hotkeys": {
    "equation": "Ctrl-E",
    "itemize": "Ctrl-I"
   },
   "labels_anchors": false,
   "latex_user_defs": false,
   "report_style_numbering": false,
   "user_envs_cfg": false
  },
  "nteract": {
   "version": "0.12.3"
  },
  "vscode": {
   "interpreter": {
    "hash": "fc86b5c2801142e42bef3458373bb840c9d311c3a92db6c529d1d940c3c80c7f"
   }
  }
 },
 "nbformat": 4,
 "nbformat_minor": 4
}
